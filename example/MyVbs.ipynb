{
 "cells": [
  {
   "cell_type": "code",
   "execution_count": 1,
   "id": "85ff8736-1955-487b-b138-ce0a91dc7822",
   "metadata": {
    "vscode": {
     "languageId": "vb"
    }
   },
   "outputs": [
    {
     "name": "stdout",
     "output_type": "stream",
     "text": [
      "[MyVBSKernel095355] Info:file h:\\Jupyter\\jupyter-MyVBScript-kernel\\example\\src\\test.vbs created successfully\n",
      "[MyVBSKernel095355] Info:The process :h:\\Jupyter\\jupyter-MyVBScript-kernel\\example\\src\\test.vbs\n",
      "[MyVBSKernel095355] Info:The process :h:\\Jupyter\\jupyter-MyVBScript-kernel\\example\\src\\test.vbs\n",
      "[MyVBSKernel095355] Info:cscript h:\\Jupyter\\jupyter-MyVBScript-kernel\\example\\src\\test.vbs \n"
     ]
    },
    {
     "data": {
      "text/plain": [
       "Microsoft (R) Windows Script Host Version 5.812\r\n",
       "Ȩ(C) Microsoft CorporationȨ\r\n",
       "\r\n"
      ]
     },
     "metadata": {
      "text/plain": {}
     },
     "output_type": "display_data"
    },
    {
     "data": {
      "text/plain": [
       "print your message here\r\n"
      ]
     },
     "metadata": {
      "text/plain": {}
     },
     "output_type": "display_data"
    },
    {
     "name": "stdout",
     "output_type": "stream",
     "text": [
      "[MyVBSKernel095355] Info:The process end:14236\n"
     ]
    }
   ],
   "source": [
    "//%log:1\n",
    "//%overwritefile\n",
    "//%file:src/test.vbs\n",
    "\n",
    "WSH.Echo \"print your message here\""
   ]
  },
  {
   "cell_type": "code",
   "execution_count": 18,
   "id": "fb57814c",
   "metadata": {
    "vscode": {
     "languageId": "vb"
    }
   },
   "outputs": [
    {
     "name": "stdout",
     "output_type": "stream",
     "text": [
      "[MyVBSKernel091747] Info:file h:\\Jupyter\\jupyter-MyVBScript-kernel\\example\\src\\test.vbs created successfully\n",
      "[MyVBSKernel091747] Info:The process :h:\\Jupyter\\jupyter-MyVBScript-kernel\\example\\src\\test.vbs\n",
      "[MyVBSKernel091747] Info:cscript.exe //Nologo src/test.vbs \n"
     ]
    },
    {
     "data": {
      "text/plain": [
       "h:\\Jupyter\\jupyter-MyVBScript-kernel\\example\\src\\test.vbs\r\n",
       "执行代码写在此处\r\n"
      ]
     },
     "metadata": {
      "text/plain": {}
     },
     "output_type": "display_data"
    },
    {
     "name": "stdout",
     "output_type": "stream",
     "text": [
      "[MyVBSKernel091747] Info:The process end:18948\n"
     ]
    }
   ],
   "source": [
    "//%log:1\n",
    "//%overwritefile\n",
    "//%file:src/test.vbs\n",
    "//%runprg:cscript.exe  \n",
    "//%runprgargs://Nologo src/test.vbs\n",
    "\n",
    "SET Wshell=CreateObject(\"Wscript.Shell\")\n",
    "\n",
    "if lcase(right(Wscript.fullName,11)) = \"wscript.exe\" then\n",
    "\n",
    "Wshell.run \"cmd /k cscript.exe //nologo \" & chr(34) & wscript.scriptfullname & chr(34)\n",
    "\n",
    "Wscript.quit\n",
    "\n",
    "else\n",
    "    Wscript.echo wscript.scriptfullname\n",
    "    Wscript.echo \"执行代码写在此处\"\n",
    "\n",
    "end if"
   ]
  },
  {
   "cell_type": "code",
   "execution_count": 21,
   "id": "5b71926b",
   "metadata": {
    "vscode": {
     "languageId": "vb"
    }
   },
   "outputs": [],
   "source": [
    "//%log:0\n",
    "//%overwritefile\n",
    "//%file:src/test2.vbs\n",
    "//%runprg:wscript.exe  \n",
    "//%runprgargs://Nologo src/test2.vbs\n",
    "SET Wshell=CreateObject(\"Wscript.Shell\")\n",
    "\n",
    "if lcase(right(Wscript.fullName,11)) = \"cscript.exe\" then\n",
    "\n",
    "   Wshell.run \"wscript.exe //nologo \" & chr(34) & wscript.scriptfullname & chr(34)\n",
    "\n",
    "   Wscript.quit\n",
    "\n",
    "else\n",
    "   Wscript.echo conv(\"执行代码写在此处\")\n",
    "   'Wscript.echo \"执行代码写在此处\"\n",
    "\n",
    "end if\n",
    "Function conv(strIn)\n",
    "   Set adoStream = CreateObject(\"ADODB.Stream\")\n",
    "   adoStream.Charset = \"GB2312\"\n",
    "   adoStream.Type = 2 'adTypeText\n",
    "   adoStream.Open \n",
    "   adoStream.WriteText strIn\n",
    "   adoStream.Position = 0 \n",
    "   adoStream.Charset = \"utf-8\"\n",
    "   adoStream.Type = 2 'adTypeBinary \n",
    "   conv = adoStream.ReadText() \n",
    "   adoStream.Close \n",
    "       \n",
    "   'conv = Mid(conv, 1) \n",
    "End Function\n"
   ]
  },
  {
   "cell_type": "code",
   "execution_count": null,
   "id": "c3c9a78d",
   "metadata": {
    "vscode": {
     "languageId": "vb"
    }
   },
   "outputs": [],
   "source": []
  }
 ],
 "metadata": {
  "kernelspec": {
   "display_name": "MyVBScript",
   "language": "VBScript",
   "name": "myvbscript"
  },
  "language_info": {
   "file_extension": ".vbs",
   "mimetype": "text/x-vbscript",
   "name": "vbscript"
  },
  "widgets": {
   "application/vnd.jupyter.widget-state+json": {
    "state": {},
    "version_major": 2,
    "version_minor": 0
   }
  }
 },
 "nbformat": 4,
 "nbformat_minor": 5
}

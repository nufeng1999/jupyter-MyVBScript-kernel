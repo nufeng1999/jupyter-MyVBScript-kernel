{
 "cells": [
  {
   "cell_type": "code",
   "execution_count": null,
   "id": "85ff8736-1955-487b-b138-ce0a91dc7822",
   "metadata": {},
   "outputs": [],
   "source": [
    "##---------------------------\n",
    "##%runinterm\n",
    "##//%term:c:\\Windows\\System32\\cmd.exe /c start bash\n",
    "##%execfile:src\\test.sh\n",
    "##%overwritefile\n",
    "##%file:src/test.sh\n",
    "##---------------------------\n",
    "ls"
   ]
  },
  {
   "cell_type": "code",
   "execution_count": 2,
   "id": "fb57814c",
   "metadata": {},
   "outputs": [
    {
     "name": "stdout",
     "output_type": "stream",
     "text": [
      "[MyVBSKernel215625] Info:file h:\\Jupyter\\ipynb\\MyVBScript\\src/test.vbs created successfully\n",
      "[MyVBSKernel215625] Info:The process :h:\\Jupyter\\ipynb\\MyVBScript\\src/test.vbs\n",
      "[MyVBSKernel215625] Info:cscript.exe //Nologo src/test.vbs \n"
     ]
    },
    {
     "data": {
      "text/plain": [
       "h:\\Jupyter\\ipynb\\MyVBScript\\src\\test.vbs\r\n",
       "执行代码写在此处\r\n"
      ]
     },
     "metadata": {
      "text/plain": {}
     },
     "output_type": "display_data"
    },
    {
     "name": "stdout",
     "output_type": "stream",
     "text": [
      "[MyVBSKernel215625] Info:The process end:11844\n"
     ]
    }
   ],
   "source": [
    "//%log:0\n",
    "//%overwritefile\n",
    "//%file:src/test.vbs\n",
    "//%runprg:cscript.exe  \n",
    "//%runprgargs://Nologo src/test.vbs\n",
    "\n",
    "SET Wshell=CreateObject(\"Wscript.Shell\")\n",
    "\n",
    "if lcase(right(Wscript.fullName,11)) = \"wscript.exe\" then\n",
    "\n",
    "Wshell.run \"cmd /k cscript.exe //nologo \" & chr(34) & wscript.scriptfullname & chr(34)\n",
    "\n",
    "Wscript.quit\n",
    "\n",
    "else\n",
    "    Wscript.echo wscript.scriptfullname\n",
    "    Wscript.echo \"执行代码写在此处\"\n",
    "\n",
    "end if"
   ]
  },
  {
   "cell_type": "code",
   "execution_count": 4,
   "id": "5b71926b",
   "metadata": {},
   "outputs": [
    {
     "name": "stdout",
     "output_type": "stream",
     "text": [
      "[MyVBSKernel215625] Info:file h:\\Jupyter\\ipynb\\MyVBScript\\src/test2.vbs created successfully\n",
      "[MyVBSKernel215625] Info:The process :h:\\Jupyter\\ipynb\\MyVBScript\\src/test2.vbs\n",
      "[MyVBSKernel215625] Info:wscript.exe //Nologo src/test2.vbs \n",
      "[MyVBSKernel215625] Info:The process end:6412\n"
     ]
    }
   ],
   "source": [
    "//%log:0\n",
    "//%overwritefile\n",
    "//%file:src/test2.vbs\n",
    "//%runprg:wscript.exe  \n",
    "//%runprgargs://Nologo src/test2.vbs\n",
    "SET Wshell=CreateObject(\"Wscript.Shell\")\n",
    "\n",
    "if lcase(right(Wscript.fullName,11)) = \"cscript.exe\" then\n",
    "\n",
    "   Wshell.run \"wscript.exe //nologo \" & chr(34) & wscript.scriptfullname & chr(34)\n",
    "\n",
    "   Wscript.quit\n",
    "\n",
    "else\n",
    "   Wscript.echo conv(\"执行代码写在此处\")\n",
    "   'Wscript.echo \"执行代码写在此处\"\n",
    "\n",
    "end if\n",
    "Function conv(strIn)\n",
    "   Set adoStream = CreateObject(\"ADODB.Stream\")\n",
    "   adoStream.Charset = \"GB2312\"\n",
    "   adoStream.Type = 2 'adTypeText\n",
    "   adoStream.Open \n",
    "   adoStream.WriteText strIn\n",
    "   adoStream.Position = 0 \n",
    "   adoStream.Charset = \"utf-8\"\n",
    "   adoStream.Type = 2 'adTypeBinary \n",
    "   conv = adoStream.ReadText() \n",
    "   adoStream.Close \n",
    "       \n",
    "   'conv = Mid(conv, 1) \n",
    "End Function\n"
   ]
  },
  {
   "cell_type": "code",
   "execution_count": null,
   "id": "81a1eb28",
   "metadata": {},
   "outputs": [],
   "source": []
  }
 ],
 "metadata": {
  "interpreter": {
   "hash": "790d66b9a7d127603100553f17b106d8e2aaf6777ced79107fc93b8d84add8f0"
  },
  "kernelspec": {
   "display_name": "MyVBScript",
   "language": "VBScript",
   "name": "myvbscript"
  },
  "language_info": {
   "file_extension": ".vbs",
   "mimetype": "text/x-vbscript",
   "name": "vbscript"
  },
  "widgets": {
   "application/vnd.jupyter.widget-state+json": {
    "state": {},
    "version_major": 2,
    "version_minor": 0
   }
  }
 },
 "nbformat": 4,
 "nbformat_minor": 5
}
